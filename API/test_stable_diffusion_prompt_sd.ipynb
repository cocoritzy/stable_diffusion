{
 "cells": [
  {
   "cell_type": "code",
   "execution_count": 6,
   "id": "9d8e0e7d",
   "metadata": {},
   "outputs": [],
   "source": [
    "from diffusers import StableDiffusionPipeline\n",
    "from diffusers import StableDiffusionXLPipeline\n",
    "from PIL import Image\n",
    "from peft import get_peft_model, LoraConfig\n",
    "import torch\n"
   ]
  },
  {
   "cell_type": "code",
   "execution_count": 4,
   "id": "a781a32c",
   "metadata": {},
   "outputs": [],
   "source": [
    "\n",
    "\n",
    "# # Load the base Stable Diffusion model (v1.4)\n",
    "# pipe = StableDiffusionPipeline.from_pretrained(\n",
    "#     \"CompVis/stable-diffusion-v1-4\",\n",
    "#     torch_dtype=torch.float16,\n",
    "#     revision=\"fp16\"\n",
    "# ).to(\"cuda\")\n",
    "\n"
   ]
  },
  {
   "cell_type": "code",
   "execution_count": 7,
   "id": "06c8974e",
   "metadata": {},
   "outputs": [
    {
     "name": "stderr",
     "output_type": "stream",
     "text": [
      "Fetching 19 files:   0%|          | 0/19 [00:00<?, ?it/s]"
     ]
    },
    {
     "name": "stderr",
     "output_type": "stream",
     "text": [
      "Fetching 19 files: 100%|██████████| 19/19 [00:34<00:00,  1.80s/it]\n",
      "Loading pipeline components...: 100%|██████████| 7/7 [00:00<00:00, 11.51it/s]\n"
     ]
    }
   ],
   "source": [
    "# Load the base SDXL model\n",
    "pipe = StableDiffusionXLPipeline.from_pretrained(\n",
    "    \"stabilityai/stable-diffusion-xl-base-1.0\",\n",
    "    torch_dtype=torch.float16,\n",
    "    variant=\"fp16\",\n",
    "    use_safetensors=True\n",
    ").to(\"cuda\")"
   ]
  },
  {
   "cell_type": "code",
   "execution_count": 8,
   "id": "d6e06091",
   "metadata": {},
   "outputs": [],
   "source": [
    "prompt = (\n",
    "    \"A scientific isometric infographic showing a vertically exploded view of five layered structures, \"\n",
    "    \"spaced evenly top to bottom on a neutral grey background (RGB #CCCCCC) with a light grey isometric grid overlay. \"\n",
    "\n",
    "    \"Top layer: A large, high-resolution, photo-realistic green lotus leaf in isometric view, with visible veins \"\n",
    "    \"and a glossy water droplet on top showing a high contact angle above 150°. No background, no text, isolated on the grey grid. \"\n",
    "\n",
    "    \"Second layer: Dense vertical nanohairs drawn in clean black architectural linework, standing upright like tightly packed bristles. \"\n",
    "    \"No shading or color. \"\n",
    "\n",
    "    \"Third layer: Fine crystalline texture resembling wax particles, shown in black line drawing only. \"\n",
    "\n",
    "    \"Fourth layer: Dome-shaped papillae, like smooth micro-bumps or bubble wrap. Monochrome black line drawing, no shading. \"\n",
    "\n",
    "    \"Fifth layer: Grid-like surface supporting a circular water droplet floating above, representing a layer of trapped air. \"\n",
    "    \"Architectural linework only. \"\n",
    "\n",
    "    \"Include: A vertical white ruler on the right with black tick marks spaced logarithmically for 100 nm, 200 nm, 1 µm, and 5 µm. \"\n",
    "    \"Thin vertical black lines connect all five layers along their center axis. \"\n",
    "\n",
    "    \"Do not include any text, labels, captions, numbers, or shadows. \"\n",
    "    \"All layers except the top lotus leaf must be in clean monochrome technical drawing style.\"\n",
    ")\n"
   ]
  },
  {
   "cell_type": "code",
   "execution_count": 9,
   "id": "32b61f46",
   "metadata": {},
   "outputs": [
    {
     "name": "stderr",
     "output_type": "stream",
     "text": [
      "Token indices sequence length is longer than the specified maximum sequence length for this model (290 > 77). Running this sequence through the model will result in indexing errors\n",
      "The following part of your input was truncated because CLIP can only handle sequences up to 77 tokens: ['top showing a high contact angle above 1 5 0 °. no background, no text, isolated on the grey grid. second layer : dense vertical nanohairs drawn in clean black architectural linework, standing upright like tightly packed bristles. no shading or color. third layer : fine crystalline texture resembling wax particles, shown in black line drawing only. fourth layer : dome - shaped papillae, like smooth micro - bumps or bubble wrap. monochrome black line drawing, no shading. fifth layer : grid - like surface supporting a circular water droplet floating above, representing a layer of trapped air. architectural linework only. include : a vertical white ruler on the right with black tick marks spaced logarithmically for 1 0 0 nm, 2 0 0 nm, 1 µm, and 5 µm. thin vertical black lines connect all five layers along their center axis. do not include any text, labels, captions, numbers, or shadows. all layers except the top lotus leaf must be in clean monochrome technical drawing style.']\n"
     ]
    },
    {
     "name": "stderr",
     "output_type": "stream",
     "text": [
      "Token indices sequence length is longer than the specified maximum sequence length for this model (290 > 77). Running this sequence through the model will result in indexing errors\n",
      "The following part of your input was truncated because CLIP can only handle sequences up to 77 tokens: ['top showing a high contact angle above 1 5 0 °. no background, no text, isolated on the grey grid. second layer : dense vertical nanohairs drawn in clean black architectural linework, standing upright like tightly packed bristles. no shading or color. third layer : fine crystalline texture resembling wax particles, shown in black line drawing only. fourth layer : dome - shaped papillae, like smooth micro - bumps or bubble wrap. monochrome black line drawing, no shading. fifth layer : grid - like surface supporting a circular water droplet floating above, representing a layer of trapped air. architectural linework only. include : a vertical white ruler on the right with black tick marks spaced logarithmically for 1 0 0 nm, 2 0 0 nm, 1 µm, and 5 µm. thin vertical black lines connect all five layers along their center axis. do not include any text, labels, captions, numbers, or shadows. all layers except the top lotus leaf must be in clean monochrome technical drawing style.']\n",
      "100%|██████████| 50/50 [00:12<00:00,  3.96it/s]\n"
     ]
    }
   ],
   "source": [
    "\n",
    "image = pipe(prompt, guidance_scale=7.5).images[0]\n",
    "\n",
    "# Save the image\n",
    "image.save(\"stable_diffusion_specific_prompt_XL.png\")\n"
   ]
  }
 ],
 "metadata": {
  "kernelspec": {
   "display_name": "venv",
   "language": "python",
   "name": "python3"
  },
  "language_info": {
   "codemirror_mode": {
    "name": "ipython",
    "version": 3
   },
   "file_extension": ".py",
   "mimetype": "text/x-python",
   "name": "python",
   "nbconvert_exporter": "python",
   "pygments_lexer": "ipython3",
   "version": "3.10.12"
  }
 },
 "nbformat": 4,
 "nbformat_minor": 5
}
