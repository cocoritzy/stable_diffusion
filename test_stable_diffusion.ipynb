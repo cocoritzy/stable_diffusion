{
 "cells": [
  {
   "cell_type": "code",
   "execution_count": 16,
   "id": "9d8e0e7d",
   "metadata": {},
   "outputs": [],
   "source": [
    "from diffusers import StableDiffusionPipeline\n",
    "from peft import get_peft_model, LoraConfig\n",
    "import torch\n"
   ]
  },
  {
   "cell_type": "code",
   "execution_count": 17,
   "id": "a781a32c",
   "metadata": {},
   "outputs": [
    {
     "name": "stderr",
     "output_type": "stream",
     "text": [
      "/root/stable_diffusion/venv/lib/python3.10/site-packages/diffusers/pipelines/pipeline_loading_utils.py:285: FutureWarning: You are loading the variant fp16 from CompVis/stable-diffusion-v1-4 via `revision='fp16'`. This behavior is deprecated and will be removed in diffusers v1. One should use `variant='fp16'` instead. However, it appears that CompVis/stable-diffusion-v1-4 currently does not have the required variant filenames in the 'main' branch. \n",
      " The Diffusers team and community would be very grateful if you could open an issue: https://github.com/huggingface/diffusers/issues/new with the title 'CompVis/stable-diffusion-v1-4 is missing fp16 files' so that the correct variant file can be added.\n",
      "  warnings.warn(\n",
      "Loading pipeline components...:   0%|          | 0/7 [00:00<?, ?it/s]An error occurred while trying to fetch /root/.cache/huggingface/hub/models--CompVis--stable-diffusion-v1-4/snapshots/2880f2ca379f41b0226444936bb7a6766a227587/unet: Error no file named diffusion_pytorch_model.safetensors found in directory /root/.cache/huggingface/hub/models--CompVis--stable-diffusion-v1-4/snapshots/2880f2ca379f41b0226444936bb7a6766a227587/unet.\n",
      "Defaulting to unsafe serialization. Pass `allow_pickle=False` to raise an error instead.\n",
      "Loading pipeline components...:  43%|████▎     | 3/7 [00:00<00:00, 13.05it/s]An error occurred while trying to fetch /root/.cache/huggingface/hub/models--CompVis--stable-diffusion-v1-4/snapshots/2880f2ca379f41b0226444936bb7a6766a227587/vae: Error no file named diffusion_pytorch_model.safetensors found in directory /root/.cache/huggingface/hub/models--CompVis--stable-diffusion-v1-4/snapshots/2880f2ca379f41b0226444936bb7a6766a227587/vae.\n",
      "Defaulting to unsafe serialization. Pass `allow_pickle=False` to raise an error instead.\n",
      "Loading pipeline components...:  71%|███████▏  | 5/7 [00:00<00:00, 10.27it/s]/root/stable_diffusion/venv/lib/python3.10/site-packages/transformers/models/clip/feature_extraction_clip.py:30: FutureWarning: The class CLIPFeatureExtractor is deprecated and will be removed in version 5 of Transformers. Please use CLIPImageProcessor instead.\n",
      "  warnings.warn(\n",
      "Loading pipeline components...: 100%|██████████| 7/7 [00:00<00:00, 11.80it/s]\n"
     ]
    }
   ],
   "source": [
    "\n",
    "\n",
    "# Load the base Stable Diffusion model (v1.4)\n",
    "pipe = StableDiffusionPipeline.from_pretrained(\n",
    "    \"CompVis/stable-diffusion-v1-4\",\n",
    "    torch_dtype=torch.float16,\n",
    "    revision=\"fp16\"\n",
    ").to(\"cuda\")\n",
    "\n"
   ]
  },
  {
   "cell_type": "code",
   "execution_count": 18,
   "id": "e8a93c59",
   "metadata": {},
   "outputs": [],
   "source": [
    "def generate_infographic_prompt(entry):\n",
    "    title = entry.get(\"title\", \"Untitled\")\n",
    "    organism = entry.get(\"organism\", \"Unknown organism\")\n",
    "    components = entry.get(\"functional_components\", [])\n",
    "\n",
    "    n_layers = len(components)\n",
    "\n",
    "    # Build the prompt\n",
    "    prompt = f\"\"\"A scientific infographic titled “{title}” centered at the top on one line.\n",
    "The image shows a vertically exploded, isometric diagram with exactly {n_layers} layers, spaced evenly in scale-accurate order from top (largest) to bottom (smallest), against a neutral grey background (RGB #CCCCCC) with a light grey isometric grid overlay.\n",
    "\n",
    "🔝 TOP LAYER — ORGANISM VISUAL + FUNCTION\n",
    "* The top layer is a high-resolution, photo-realistic, full-color image of the organism “{organism}”.\n",
    "* It is in isometric view, aligned with the orientation of all lower layers.\n",
    "* The organism appears isolated — no natural or photographic environment, just the grey background.\n",
    "* ✅ Must look photographic, naturalistic, and realistic\n",
    "* 🚫 No cartoon, stylized, artistic, or 3D-rendered imagery\n",
    "* 🚫 No environmental scenes (e.g., desert, leaf, water, landscape)\n",
    "Note: This layer is the largest and includes no caption or scale label.\n",
    "\n",
    "📚 LAYERS (Functional Components, Top to Bottom)\n",
    "\"\"\"\n",
    "\n",
    "    for i, comp in enumerate(components, start=1):\n",
    "        name = comp.get(\"layer_name\", f\"Layer {i}\")\n",
    "        function = comp.get(\"function_caption\", \"No function provided\")\n",
    "        scale = comp.get(\"scale_label\", \"No scale\")\n",
    "\n",
    "        prompt += f\"\"\"\n",
    "{i}. {name}\n",
    "    * Visual: Draw using black linework only — clean, minimal, architectural-style.\n",
    "        * Must follow scientifically accurate structure based on microscope or literature reference.\n",
    "        * Render in isometric alignment.\n",
    "        * 🚫 No shading, no 3D rendering, no color\n",
    "    * Function Caption:\n",
    "        * Position: Left of the layer and aligned on the left : \"{function}\"  \n",
    "    * Scale Label:\n",
    "        * Position: Right of the layer\n",
    "        * Format: e.g., “{scale}”\n",
    "        * Connected to a white vertical scientific ruler with tick marks matching all layers using logarithmic spacing\n",
    "\"\"\"\n",
    "\n",
    "    # Style rules\n",
    "    prompt += \"\"\"\n",
    "🎨 VISUAL STYLE & RULES\n",
    "* Background:\n",
    "    * Flat grey (RGB #CCCCCC)\n",
    "    * With light grey isometric grid overlay (engineering blueprint style)\n",
    "* Ruler:\n",
    "    * Positioned right side\n",
    "    * Vertical, white, with black tick marks (logarithmic scale)\n",
    "* Alignment Lines:\n",
    "    * Thin, black vertical lines connecting the center of all layers\n",
    "* Spacing:\n",
    "    * Equal vertical spacing\n",
    "    * Layer sizes must decrease top to bottom to reflect true scientific scale hierarchy\n",
    "* Font:\n",
    "    * Uniform sans-serif font, small size\n",
    "    * No overlapping with visuals\n",
    "    * Title: centered and bold; all other text regular weight\n",
    "\n",
    "🚫 DO NOT INCLUDE:\n",
    "* Any background behind the organism (no sand, water, plants, etc.)\n",
    "* 3D renderings, shading, drop shadows, lighting effects\n",
    "* Color in any layer except the organism\n",
    "* Stylized or symbolic interpretations of structures\n",
    "* Captions on the right or inside diagrams\n",
    "* Layer sizes out of scientific order (no reverse or arbitrary size)\n",
    "\"\"\"\n",
    "\n",
    "    return prompt\n"
   ]
  },
  {
   "cell_type": "code",
   "execution_count": 19,
   "id": "1c3a87f7",
   "metadata": {},
   "outputs": [
    {
     "data": {
      "text/plain": [
       "'A scientific infographic titled “Lotus Leaf Superhydrophobic Surface” centered at the top on one line.\\nThe image shows a vertically exploded, isometric diagram with exactly 4 layers, spaced evenly in scale-accurate order from top (largest) to bottom (smallest), against a neutral grey background (RGB #CCCCCC) with a light grey isometric grid overlay.\\n\\n🔝 TOP LAYER — ORGANISM VISUAL + FUNCTION\\n* The top layer is a high-resolution, photo-realistic, full-color image of the organism “Nelumbo nucifera (Sacred Lotus)”.\\n* It is in isometric view, aligned with the orientation of all lower layers.\\n* The organism appears isolated — no natural or photographic environment, just the grey background.\\n* ✅ Must look photographic, naturalistic, and realistic\\n* 🚫 No cartoon, stylized, artistic, or 3D-rendered imagery\\n* 🚫 No environmental scenes (e.g., desert, leaf, water, landscape)\\nNote: This layer is the largest and includes no caption or scale label.\\n\\n📚 LAYERS (Functional Components, Top to Bottom)\\n\\n1. Layer 1\\n    * Visual: Draw using black linework only — clean, minimal, architectural-style.\\n        * Must follow scientifically accurate structure based on microscope or literature reference.\\n        * Render in isometric alignment.\\n        * 🚫 No shading, no 3D rendering, no color\\n    * Function Caption:\\n        * Position: Left of the layer and aligned on the left : \"No function provided\"  \\n    * Scale Label:\\n        * Position: Right of the layer\\n        * Format: e.g., “No scale”\\n        * Connected to a white vertical scientific ruler with tick marks matching all layers using logarithmic spacing\\n\\n2. Layer 2\\n    * Visual: Draw using black linework only — clean, minimal, architectural-style.\\n        * Must follow scientifically accurate structure based on microscope or literature reference.\\n        * Render in isometric alignment.\\n        * 🚫 No shading, no 3D rendering, no color\\n    * Function Caption:\\n        * Position: Left of the layer and aligned on the left : \"No function provided\"  \\n    * Scale Label:\\n        * Position: Right of the layer\\n        * Format: e.g., “No scale”\\n        * Connected to a white vertical scientific ruler with tick marks matching all layers using logarithmic spacing\\n\\n3. Layer 3\\n    * Visual: Draw using black linework only — clean, minimal, architectural-style.\\n        * Must follow scientifically accurate structure based on microscope or literature reference.\\n        * Render in isometric alignment.\\n        * 🚫 No shading, no 3D rendering, no color\\n    * Function Caption:\\n        * Position: Left of the layer and aligned on the left : \"No function provided\"  \\n    * Scale Label:\\n        * Position: Right of the layer\\n        * Format: e.g., “No scale”\\n        * Connected to a white vertical scientific ruler with tick marks matching all layers using logarithmic spacing\\n\\n4. Layer 4\\n    * Visual: Draw using black linework only — clean, minimal, architectural-style.\\n        * Must follow scientifically accurate structure based on microscope or literature reference.\\n        * Render in isometric alignment.\\n        * 🚫 No shading, no 3D rendering, no color\\n    * Function Caption:\\n        * Position: Left of the layer and aligned on the left : \"No function provided\"  \\n    * Scale Label:\\n        * Position: Right of the layer\\n        * Format: e.g., “No scale”\\n        * Connected to a white vertical scientific ruler with tick marks matching all layers using logarithmic spacing\\n\\n🎨 VISUAL STYLE & RULES\\n* Background:\\n    * Flat grey (RGB #CCCCCC)\\n    * With light grey isometric grid overlay (engineering blueprint style)\\n* Ruler:\\n    * Positioned right side\\n    * Vertical, white, with black tick marks (logarithmic scale)\\n* Alignment Lines:\\n    * Thin, black vertical lines connecting the center of all layers\\n* Spacing:\\n    * Equal vertical spacing\\n    * Layer sizes must decrease top to bottom to reflect true scientific scale hierarchy\\n* Font:\\n    * Uniform sans-serif font, small size\\n    * No overlapping with visuals\\n    * Title: centered and bold; all other text regular weight\\n\\n🚫 DO NOT INCLUDE:\\n* Any background behind the organism (no sand, water, plants, etc.)\\n* 3D renderings, shading, drop shadows, lighting effects\\n* Color in any layer except the organism\\n* Stylized or symbolic interpretations of structures\\n* Captions on the right or inside diagrams\\n* Layer sizes out of scientific order (no reverse or arbitrary size)\\n'"
      ]
     },
     "execution_count": 19,
     "metadata": {},
     "output_type": "execute_result"
    }
   ],
   "source": [
    "import json\n",
    "\n",
    "\n",
    "with open(\"leaf.json\", \"r\") as f:\n",
    "    data = json.load(f)\n",
    "model = data[\"models\"][0]\n",
    "prompt = generate_infographic_prompt(model)\n",
    "prompt"
   ]
  },
  {
   "cell_type": "code",
   "execution_count": 20,
   "id": "32b61f46",
   "metadata": {},
   "outputs": [
    {
     "name": "stderr",
     "output_type": "stream",
     "text": [
      "Token indices sequence length is longer than the specified maximum sequence length for this model (921 > 77). Running this sequence through the model will result in indexing errors\n",
      "The following part of your input was truncated because CLIP can only handle sequences up to 77 tokens: ['grid overlay . 🔝 top layer — organism visual + function * the top layer is a high - resolution , photo - realistic , full - color image of the organism “ nelumbo nucifera ( sacred lotus )”. * it is in isometric view , aligned with the orientation of all lower layers . * the organism appears isolated — no natural or photographic environment , just the grey background . * ✅ must look photographic , naturalistic , and realistic * 🚫 no cartoon , stylized , artistic , or 3 d - rendered imagery * 🚫 no environmental scenes ( e . g ., desert , leaf , water , landscape ) note : this layer is the largest and includes no caption or scale label . 📚 layers ( functional components , top to bottom ) 1 . layer 1 * visual : draw using black linework only — clean , minimal , architectural - style . * must follow scientifically accurate structure based on microscope or literature reference . * render in isometric alignment . * 🚫 no shading , no 3 d rendering , no color * function caption : * position : left of the layer and aligned on the left : \" no function provided \" * scale label : * position : right of the layer * format : e . g ., “ no scale ” * connected to a white vertical scientific ruler with tick marks matching all layers using logarithmic spacing 2 . layer 2 * visual : draw using black linework only — clean , minimal , architectural - style . * must follow scientifically accurate structure based on microscope or literature reference . * render in isometric alignment . * 🚫 no shading , no 3 d rendering , no color * function caption : * position : left of the layer and aligned on the left : \" no function provided \" * scale label : * position : right of the layer * format : e . g ., “ no scale ” * connected to a white vertical scientific ruler with tick marks matching all layers using logarithmic spacing 3 . layer 3 * visual : draw using black linework only — clean , minimal , architectural - style . * must follow scientifically accurate structure based on microscope or literature reference . * render in isometric alignment . * 🚫 no shading , no 3 d rendering , no color * function caption : * position : left of the layer and aligned on the left : \" no function provided \" * scale label : * position : right of the layer * format : e . g ., “ no scale ” * connected to a white vertical scientific ruler with tick marks matching all layers using logarithmic spacing 4 . layer 4 * visual : draw using black linework only — clean , minimal , architectural - style . * must follow scientifically accurate structure based on microscope or literature reference . * render in isometric alignment . * 🚫 no shading , no 3 d rendering , no color * function caption : * position : left of the layer and aligned on the left : \" no function provided \" * scale label : * position : right of the layer * format : e . g ., “ no scale ” * connected to a white vertical scientific ruler with tick marks matching all layers using logarithmic spacing 🎨 visual style & rules * background : * flat grey ( rgb # cccccc ) * with light grey isometric grid overlay ( engineering blueprint style ) * ruler : * positioned right side * vertical , white , with black tick marks ( logarithmic scale ) * alignment lines : * thin , black vertical lines connecting the center of all layers * spacing : * equal vertical spacing * layer sizes must decrease top to bottom to reflect true scientific scale hierarchy * font : * uniform sans - serif font , small size * no overlapping with visuals * title : centered and bold ; all other text regular weight 🚫 do not include : * any background behind the organism ( no sand , water , plants , etc .) * 3 d renderings , shading , drop shadows , lighting effects * color in any layer except the organism * stylized or symbolic interpretations of structures * captions on the right or inside diagrams * layer sizes out of scientific order ( no reverse or arbitrary size )']\n",
      "  0%|          | 0/50 [00:00<?, ?it/s]"
     ]
    },
    {
     "name": "stderr",
     "output_type": "stream",
     "text": [
      "100%|██████████| 50/50 [00:02<00:00, 21.16it/s]\n"
     ]
    }
   ],
   "source": [
    "# Generate an image from a prompt\n",
    "#prompt = \"a mountain landscape with a river and a fox in the foreground, highly detailed, photorealistic\"\n",
    "image = pipe(prompt, guidance_scale=7.5).images[0]\n",
    "\n",
    "# Save the image\n",
    "image.save(\"stable_diffusion.png\")\n"
   ]
  }
 ],
 "metadata": {
  "kernelspec": {
   "display_name": "venv",
   "language": "python",
   "name": "python3"
  },
  "language_info": {
   "codemirror_mode": {
    "name": "ipython",
    "version": 3
   },
   "file_extension": ".py",
   "mimetype": "text/x-python",
   "name": "python",
   "nbconvert_exporter": "python",
   "pygments_lexer": "ipython3",
   "version": "3.10.12"
  }
 },
 "nbformat": 4,
 "nbformat_minor": 5
}
