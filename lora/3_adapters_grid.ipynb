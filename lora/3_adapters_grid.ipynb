{
 "cells": [
  {
   "cell_type": "code",
   "execution_count": null,
   "id": "a37d90c0",
   "metadata": {},
   "outputs": [
    {
     "name": "stderr",
     "output_type": "stream",
     "text": [
      "/root/stable_diffusion/venv/lib/python3.10/site-packages/tqdm/auto.py:21: TqdmWarning: IProgress not found. Please update jupyter and ipywidgets. See https://ipywidgets.readthedocs.io/en/stable/user_install.html\n",
      "  from .autonotebook import tqdm as notebook_tqdm\n",
      "Loading pipeline components...: 100%|██████████| 7/7 [00:00<00:00,  9.51it/s]\n",
      "No LoRA keys associated to CLIPTextModel found with the prefix='text_encoder'. This is safe to ignore if LoRA state dict didn't originally have any CLIPTextModel related params. You can also try specifying `prefix=None` to resolve the warning. Otherwise, open an issue if you think it's unexpected: https://github.com/huggingface/diffusers/issues/new\n",
      "No LoRA keys associated to CLIPTextModelWithProjection found with the prefix='text_encoder_2'. This is safe to ignore if LoRA state dict didn't originally have any CLIPTextModelWithProjection related params. You can also try specifying `prefix=None` to resolve the warning. Otherwise, open an issue if you think it's unexpected: https://github.com/huggingface/diffusers/issues/new\n",
      "/root/stable_diffusion/venv/lib/python3.10/site-packages/peft/tuners/tuners_utils.py:167: UserWarning: Already found a `peft_config` attribute in the model. This will lead to having multiple adapters in the model. Make sure to know what you are doing!\n",
      "  warnings.warn(\n",
      "No LoRA keys associated to CLIPTextModel found with the prefix='text_encoder'. This is safe to ignore if LoRA state dict didn't originally have any CLIPTextModel related params. You can also try specifying `prefix=None` to resolve the warning. Otherwise, open an issue if you think it's unexpected: https://github.com/huggingface/diffusers/issues/new\n",
      "No LoRA keys associated to CLIPTextModel found with the prefix='text_encoder'. This is safe to ignore if LoRA state dict didn't originally have any CLIPTextModel related params. You can also try specifying `prefix=None` to resolve the warning. Otherwise, open an issue if you think it's unexpected: https://github.com/huggingface/diffusers/issues/new\n",
      "No LoRA keys associated to CLIPTextModelWithProjection found with the prefix='text_encoder_2'. This is safe to ignore if LoRA state dict didn't originally have any CLIPTextModelWithProjection related params. You can also try specifying `prefix=None` to resolve the warning. Otherwise, open an issue if you think it's unexpected: https://github.com/huggingface/diffusers/issues/new\n",
      "100%|██████████| 10/10 [00:03<00:00,  3.29it/s]\n",
      "100%|██████████| 10/10 [00:02<00:00,  3.71it/s]\n",
      "100%|██████████| 10/10 [00:02<00:00,  3.83it/s]\n",
      "100%|██████████| 10/10 [00:02<00:00,  3.77it/s]\n",
      "100%|██████████| 10/10 [00:02<00:00,  3.62it/s]\n",
      "100%|██████████| 10/10 [00:02<00:00,  3.75it/s]\n",
      "100%|██████████| 10/10 [00:02<00:00,  3.69it/s]\n",
      "100%|██████████| 10/10 [00:02<00:00,  3.66it/s]\n",
      "100%|██████████| 10/10 [00:02<00:00,  3.67it/s]\n",
      "100%|██████████| 10/10 [00:02<00:00,  3.68it/s]\n",
      "100%|██████████| 10/10 [00:02<00:00,  3.79it/s]\n",
      "100%|██████████| 10/10 [00:02<00:00,  3.71it/s]\n",
      "100%|██████████| 10/10 [00:02<00:00,  3.74it/s]\n",
      "100%|██████████| 10/10 [00:02<00:00,  3.60it/s]\n"
     ]
    },
    {
     "name": "stdout",
     "output_type": "stream",
     "text": [
      "✅ Grid saved to: lora_grid_fast/lora_grid_2x7.png\n"
     ]
    }
   ],
   "source": [
    "from PIL import Image\n",
    "import os\n",
    "from diffusers import DiffusionPipeline, DDIMScheduler\n",
    "import torch\n",
    "import numpy as np\n",
    "\n",
    "# --- SETTINGS ---\n",
    "adapters = [\"ikea\", \"cereal\", \"toy-face\"]\n",
    "output_dir = \"lora_grid_fast\"\n",
    "os.makedirs(output_dir, exist_ok=True)\n",
    "\n",
    "# Load pipeline\n",
    "pipe = DiffusionPipeline.from_pretrained(\n",
    "    \"stabilityai/stable-diffusion-xl-base-1.0\",\n",
    "    torch_dtype=torch.float16,\n",
    "    variant=\"fp16\",\n",
    "    use_safetensors=True\n",
    ").to(\"cuda\")\n",
    "pipe.scheduler = DDIMScheduler.from_config(pipe.scheduler.config)\n",
    "\n",
    "# Load adapters\n",
    "pipe.load_lora_weights(\"ostris/ikea-instructions-lora-sdxl\", adapter_name=\"ikea\")\n",
    "pipe.load_lora_weights(\"ostris/super-cereal-sdxl-lora\", adapter_name=\"cereal\")\n",
    "pipe.load_lora_weights(\"CiroN2022/toy-face\", adapter_name=\"toy-face\")\n",
    "\n",
    "# Define 14 handpicked combinations (spread across triangle)\n",
    "weights_list = \n",
    "    [1.0, 0.0, 0.0],\n",
    "    [0.1, 0.0, 0.0],\n",
    "    [0.1, 0.0, 0.0],\n",
    "    [0.1, 0.0, 0.0]\n",
    "\n",
    "\n",
    "# Generate images\n",
    "images = []\n",
    "for weights in weights_list:\n",
    "    pipe.set_adapters(adapters, adapter_weights=weights)\n",
    "    prompt = \"a man\"\n",
    "    image = pipe(prompt=prompt, height=512, width=512, num_inference_steps=10).images[0]\n",
    "    images.append(image)\n",
    "\n",
    "# Make 2×7 grid\n",
    "grid_width = 7\n",
    "grid_height = 2\n",
    "img_w, img_h = images[0].size\n",
    "grid_img = Image.new(\"RGB\", (img_w * grid_width, img_h * grid_height))\n",
    "\n",
    "for idx, img in enumerate(images):\n",
    "    x = (idx % grid_width) * img_w\n",
    "    y = (idx // grid_width) * img_h\n",
    "    grid_img.paste(img, (x, y))\n",
    "\n",
    "grid_path = os.path.join(output_dir, \"lora_grid_2x7.png\")\n",
    "grid_img.save(grid_path)\n",
    "print(\"✅ Grid saved to:\", grid_path)\n"
   ]
  }
 ],
 "metadata": {
  "kernelspec": {
   "display_name": "venv",
   "language": "python",
   "name": "python3"
  },
  "language_info": {
   "codemirror_mode": {
    "name": "ipython",
    "version": 3
   },
   "file_extension": ".py",
   "mimetype": "text/x-python",
   "name": "python",
   "nbconvert_exporter": "python",
   "pygments_lexer": "ipython3",
   "version": "3.10.12"
  }
 },
 "nbformat": 4,
 "nbformat_minor": 5
}
