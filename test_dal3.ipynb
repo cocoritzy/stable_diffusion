{
 "cells": [
  {
   "cell_type": "markdown",
   "id": "2c058638",
   "metadata": {
    "vscode": {
     "languageId": "plaintext"
    }
   },
   "source": [
    "## Set Up Environment"
   ]
  },
  {
   "cell_type": "markdown",
   "id": "34285efa",
   "metadata": {},
   "source": [
    "## small def "
   ]
  },
  {
   "cell_type": "code",
   "execution_count": 21,
   "id": "366ab5fa-d880-4a6e-afc9-a1b521cdc3eb",
   "metadata": {},
   "outputs": [],
   "source": [
    "# def generate_prompt_short(entry):\n",
    "#     title = entry.get(\"title\", \"Untitled\")\n",
    "#     organism = entry.get(\"organism\", \"Unknown organism\")\n",
    "#     components = entry.get(\"functional_components\", [])\n",
    "#     n_layers = len(components) + 1  # top organism layer + component layers\n",
    "\n",
    "#     # Build per-layer description string\n",
    "#     layers_description = \"\"\n",
    "#     for comp in components:\n",
    "#         function = comp.get(\"function_caption\", \"Unknown function\")\n",
    "#         scale = comp.get(\"scale_label\", \"Unknown scale\")\n",
    "#         layers_description += f' caption on the left (“{function}”), scale label on right (“{scale}”);'\n",
    "\n",
    "#     prompt = (\n",
    "#         f'Infographic titled “{title}” centered on top. Isometric diagram with {n_layers} vertically stacked '\n",
    "#         f'layers on neutral grey (#CCCCCC) with light grid. Top layer: photo-realistic, full-color, isometric view of '\n",
    "#         f'“{organism}”, isolated on grey (no background). Must look photographic, not stylized or rendered. '\n",
    "#         f'Below: {n_layers - 1} black linework layers showing functional components. Each includes:{layers_description} '\n",
    "#         f'accurate architecture-inspired drawings, no color/shading. All layers aligned, decreasing in size top to bottom. '\n",
    "#         f'Thin vertical alignment lines connect all layers. Font: small, sans-serif. No shadows, environments, or artistic style. '\n",
    "#         f'Only the organism layer has color.'\n",
    "#     )\n",
    "\n",
    "#     return prompt\n"
   ]
  },
  {
   "cell_type": "markdown",
   "id": "fca82049",
   "metadata": {},
   "source": [
    "## def avec mots "
   ]
  },
  {
   "cell_type": "code",
   "execution_count": null,
   "id": "6522b91b-ac22-4a88-969a-c17385f12480",
   "metadata": {},
   "outputs": [],
   "source": [
    "# def generate_infographic_prompt(entry):\n",
    "#     title = entry.get(\"title\", \"Untitled\")\n",
    "#     organism = entry.get(\"organism\", \"Unknown organism\")\n",
    "#     components = entry.get(\"functional_components\", [])\n",
    "\n",
    "#     n_layers = len(components)\n",
    "\n",
    "#     # Build the prompt\n",
    "#     prompt = f\"\"\"A scientific infographic titled “{title}” centered at the top on one line.\n",
    "# The image shows a vertically exploded, isometric diagram with exactly {n_layers} layers, spaced evenly in scale-accurate order from top (largest) to bottom (smallest), against a neutral grey background (RGB #CCCCCC) with a light grey isometric grid overlay.\n",
    "\n",
    "# 🔝 TOP LAYER — ORGANISM VISUAL + FUNCTION\n",
    "# * The top layer is a high-resolution, photo-realistic, full-color image of the organism “{organism}”.\n",
    "# * It is in isometric view, aligned with the orientation of all lower layers.\n",
    "# * The organism appears isolated — no natural or photographic environment, just the grey background.\n",
    "# * ✅ Must look photographic, naturalistic, and realistic\n",
    "# * 🚫 No cartoon, stylized, artistic, or 3D-rendered imagery\n",
    "# * 🚫 No environmental scenes (e.g., desert, leaf, water, landscape)\n",
    "# Note: This layer is the largest and includes no caption or scale label.\n",
    "\n",
    "# 📚 LAYERS (Functional Components, Top to Bottom)\n",
    "# \"\"\"\n",
    "\n",
    "#     for i, comp in enumerate(components, start=1):\n",
    "#         name = comp.get(\"layer_name\", f\"Layer {i}\")\n",
    "#         function = comp.get(\"function_caption\", \"No function provided\")\n",
    "#         scale = comp.get(\"scale_label\", \"No scale\")\n",
    "\n",
    "#         prompt += f\"\"\"\n",
    "# {i}. {name}\n",
    "#     * Visual: Draw using black linework only — clean, minimal, architectural-style.\n",
    "#         * Must follow scientifically accurate structure based on microscope or literature reference.\n",
    "#         * Render in isometric alignment.\n",
    "#         * 🚫 No shading, no 3D rendering, no color\n",
    "#     * Function Caption:\n",
    "#         * Position: Left of the layer and aligned on the left : \"{function}\"  \n",
    "#     * Scale Label:\n",
    "#         * Position: Right of the layer\n",
    "#         * Format: e.g., “{scale}”\n",
    "#         * Connected to a white vertical scientific ruler with tick marks matching all layers using logarithmic spacing\n",
    "# \"\"\"\n",
    "\n",
    "#     # Style rules\n",
    "#     prompt += \"\"\"\n",
    "# 🎨 VISUAL STYLE & RULES\n",
    "# * Background:\n",
    "#     * Flat grey (RGB #CCCCCC)\n",
    "#     * With light grey isometric grid overlay (engineering blueprint style)\n",
    "# * Ruler:\n",
    "#     * Positioned right side\n",
    "#     * Vertical, white, with black tick marks (logarithmic scale)\n",
    "# * Alignment Lines:\n",
    "#     * Thin, black vertical lines connecting the center of all layers\n",
    "# * Spacing:\n",
    "#     * Equal vertical spacing\n",
    "#     * Layer sizes must decrease top to bottom to reflect true scientific scale hierarchy\n",
    "# * Font:\n",
    "#     * Uniform sans-serif font, small size\n",
    "#     * No overlapping with visuals\n",
    "#     * Title: centered and bold; all other text regular weight\n",
    "\n",
    "# 🚫 DO NOT INCLUDE:\n",
    "# * Any background behind the organism (no sand, water, plants, etc.)\n",
    "# * 3D renderings, shading, drop shadows, lighting effects\n",
    "# * Color in any layer except the organism\n",
    "# * Stylized or symbolic interpretations of structures\n",
    "# * Captions on the right or inside diagrams\n",
    "# * Layer sizes out of scientific order (no reverse or arbitrary size)\n",
    "# \"\"\"\n",
    "\n",
    "#     return prompt[:4000]\n"
   ]
  },
  {
   "cell_type": "markdown",
   "id": "ae323f65",
   "metadata": {},
   "source": [
    "## def without text "
   ]
  },
  {
   "cell_type": "code",
   "execution_count": 27,
   "id": "1513806a",
   "metadata": {},
   "outputs": [],
   "source": [
    "def generate_infographic_prompt(entry):\n",
    "    organism = entry.get(\"organism\", \"Unknown organism\")\n",
    "    components = entry.get(\"functional_components\", [])\n",
    "    n_layers = len(components)\n",
    "\n",
    "    prompt = f\"\"\"An isometric scientific infographic of {n_layers} vertically exploded layers, spaced evenly in scale-accurate order from top (largest) to bottom (smallest), shown on a flat grey background (RGB #CCCCCC) with a light grey isometric grid overlay.\n",
    "\n",
    "🔝 TOP LAYER — ORGANISM VISUAL\n",
    "* The top layer is a high-resolution, photo-realistic, full-color image of the organism “{organism}”.\n",
    "* It is in isometric view, aligned with the orientation of all lower layers.\n",
    "* The organism appears isolated — no environment, no background context, just the grey background.\n",
    "* ✅ Must look photographic and realistic\n",
    "* 🚫 No cartoon, artistic, or stylized renderings\n",
    "* 🚫 No environmental backgrounds or scenes\n",
    "\n",
    "📚 LOWER LAYERS (Functional Components, Top to Bottom)\n",
    "\"\"\"\n",
    "\n",
    "    for i, comp in enumerate(components, start=1):\n",
    "        name = comp.get(\"layer_name\", f\"Layer {i}\")\n",
    "\n",
    "        prompt += f\"\"\"\n",
    "{i}. {name}\n",
    "    * Visual: Black linework only — clean, minimal, architectural-style.\n",
    "        * Must follow scientifically accurate structure from microscope or literature.\n",
    "        * Render in isometric alignment.\n",
    "        * 🚫 No shading, 3D rendering, or color\n",
    "\"\"\"\n",
    "\n",
    "    # Style rules (visual only)\n",
    "    prompt += \"\"\"\n",
    "🎨 VISUAL STYLE & RULES\n",
    "* Background:\n",
    "    * Flat grey (RGB #CCCCCC)\n",
    "    * With light grey isometric grid overlay\n",
    "* Ruler:\n",
    "    * On the right side\n",
    "    * White vertical ruler with black tick marks (logarithmic spacing)\n",
    "* Alignment:\n",
    "    * Vertical black lines connecting all layers at center\n",
    "    * Equal vertical spacing\n",
    "    * Layer sizes decrease top to bottom (true scientific scale)\n",
    "* No visible text, captions, titles, or labels in the image\n",
    "\n",
    "🚫 DO NOT INCLUDE:\n",
    "* Any text, titles, labels, or captions\n",
    "* Backgrounds (e.g., trees, desert, sky, water)\n",
    "* Shadows, color (except organism), or lighting effects\n",
    "* Artistic or symbolic interpretations\n",
    "\"\"\"\n",
    "\n",
    "    return prompt[:4000]\n"
   ]
  },
  {
   "cell_type": "code",
   "execution_count": 28,
   "id": "827b2358-0b8d-4bf3-81e5-993e655728bc",
   "metadata": {},
   "outputs": [],
   "source": [
    "import json\n",
    "with open(\"leaf.json\", \"r\") as f:\n",
    "    data = json.load(f)\n",
    "model = data[\"models\"][0]\n",
    "prompt = generate_infographic_prompt(model)\n"
   ]
  },
  {
   "cell_type": "code",
   "execution_count": 29,
   "id": "6bfe5659",
   "metadata": {},
   "outputs": [],
   "source": [
    "from dotenv import load_dotenv\n",
    "import os\n",
    "\n",
    "# Load .env file into environment variables\n",
    "load_dotenv()\n",
    "\n",
    "# Access your variables\n",
    "ai_token = os.getenv(\"x\")\n",
    "\n"
   ]
  },
  {
   "cell_type": "code",
   "execution_count": 30,
   "id": "87791746-2eee-4fbc-bd9c-93c2ab711856",
   "metadata": {},
   "outputs": [],
   "source": [
    "import openai\n",
    "\n",
    "# Replace with your real OpenAI API key\n",
    "client = openai.OpenAI(api_key=ai_token)\n",
    "\n",
    "# Simple, lightweight prompt for low-cost image generation\n",
    "prompt = prompt\n",
    "\n",
    "# Call DALL·E 3\n",
    "response = client.images.generate(\n",
    "    model=\"dall-e-3\",\n",
    "    prompt=prompt,\n",
    "    size=\"1024x1024\",\n",
    "    quality=\"standard\",  # Cheapest setting\n",
    "    n=1\n",
    ")\n",
    "\n",
    "\n"
   ]
  },
  {
   "cell_type": "code",
   "execution_count": 32,
   "id": "d9f60b1b-92c3-484e-981f-68c35d9066d2",
   "metadata": {},
   "outputs": [
    {
     "name": "stdout",
     "output_type": "stream",
     "text": [
      "✅ Image generated: https://oaidalleapiprodscus.blob.core.windows.net/private/org-ZIy2DAIUQGkh5mLrhsB3wL4y/user-oYtm4l8RtoLGQTec7Dj1MREf/img-Jmy79U70GpF025wZAcs4BvYm.png?st=2025-05-21T12%3A15%3A04Z&se=2025-05-21T14%3A15%3A04Z&sp=r&sv=2024-08-04&sr=b&rscd=inline&rsct=image/png&skoid=8b33a531-2df9-46a3-bc02-d4b1430a422c&sktid=a48cca56-e6da-484e-a814-9c849652bcb3&skt=2025-05-20T23%3A51%3A16Z&ske=2025-05-21T23%3A51%3A16Z&sks=b&skv=2024-08-04&sig=aOMwpujydZoQnuwv9QhBE2x/097T3yDkn9E6sBReDXU%3D\n",
      "💾 Image saved as 'generated_image_no_text.png'\n"
     ]
    }
   ],
   "source": [
    "import openai\n",
    "import requests\n",
    "from PIL import Image\n",
    "from io import BytesIO\n",
    "import os\n",
    "\n",
    "# Get the image URL\n",
    "image_url = response.data[0].url\n",
    "print(\"✅ Image generated:\", image_url)\n",
    "\n",
    "# Download and save the image\n",
    "image_response = requests.get(image_url)\n",
    "image = Image.open(BytesIO(image_response.content))\n",
    "image.save(\"generated_image.png\")\n",
    "\n",
    "print(\"💾 Image saved as 'generated_image_no_text.png'\")"
   ]
  }
 ],
 "metadata": {
  "kernelspec": {
   "display_name": "venv",
   "language": "python",
   "name": "python3"
  },
  "language_info": {
   "codemirror_mode": {
    "name": "ipython",
    "version": 3
   },
   "file_extension": ".py",
   "mimetype": "text/x-python",
   "name": "python",
   "nbconvert_exporter": "python",
   "pygments_lexer": "ipython3",
   "version": "3.10.12"
  }
 },
 "nbformat": 4,
 "nbformat_minor": 5
}
